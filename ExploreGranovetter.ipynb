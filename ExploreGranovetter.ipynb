{
 "cells": [
  {
   "cell_type": "markdown",
   "metadata": {},
   "source": [
    "# Initial Exploration Granovetter"
   ]
  },
  {
   "cell_type": "markdown",
   "metadata": {},
   "source": [
    "I need to start this for visualization issues. Let's use Jupyter (but I do not want)."
   ]
  },
  {
   "cell_type": "code",
   "execution_count": 1,
   "metadata": {
    "collapsed": true
   },
   "outputs": [],
   "source": [
    "import pandas as pd\n",
    "import numpy as np\n",
    "import matplotlib\n",
    "# Force matplotlib to not use any Xwindows backend.\n",
    "# matplotlib.use('Agg')\n",
    "import pylab as plt #import Matplotlib plotting interface\n",
    "import networkx as nx\n",
    "import community # python-louvain"
   ]
  },
  {
   "cell_type": "code",
   "execution_count": 2,
   "metadata": {
    "collapsed": true
   },
   "outputs": [],
   "source": [
    "def create_tuple(row):\n",
    "    '''\n",
    "    Create a tuple from a row.\n",
    "    '''\n",
    "    left = row['wos_id']\n",
    "    rigth = row['uid']\n",
    "    tup = (left, rigth)\n",
    "\n",
    "    return tup"
   ]
  },
  {
   "cell_type": "code",
   "execution_count": 3,
   "metadata": {
    "collapsed": true
   },
   "outputs": [],
   "source": [
    "def create_communities(G):\n",
    "    '''\n",
    "    Community detection Lauvein algorithm.\n",
    "    \n",
    "    Input:\n",
    "        G = networkX object\n",
    "    Ouput:\n",
    "        G = networkX object\n",
    "    '''\n",
    "    print(\"About to create communities.\")\n",
    "    \n",
    "    communities = community.best_partition(G)\n",
    "    nx.set_node_attributes(G, communities, 'modularity')\n",
    "    \n",
    "    # Print Global Modularity \n",
    "    global_modularity = community.modularity(communities, G)\n",
    "    print(\"Global modularity: \", global_modularity)\n",
    "    \n",
    "    return G"
   ]
  },
  {
   "cell_type": "code",
   "execution_count": 4,
   "metadata": {
    "collapsed": true
   },
   "outputs": [],
   "source": [
    "# Six steps:\n",
    "    # 1) Data\n",
    "    # 2) Create nodes and edges\n",
    "    # 3) Create and populate the graph\n",
    "    # 4) Create the clusters\n",
    "    # 5) Calculate modularity\n",
    "    # 6) Graphs"
   ]
  },
  {
   "cell_type": "code",
   "execution_count": 5,
   "metadata": {
    "collapsed": true
   },
   "outputs": [],
   "source": [
    "# 1) Data (ALL)\n",
    "allANDpubyear = pd.read_csv('../output/data/allANDpubyear.txt', sep='\\t')"
   ]
  },
  {
   "cell_type": "code",
   "execution_count": 68,
   "metadata": {
    "collapsed": true
   },
   "outputs": [],
   "source": [
    "# Define function to do:\n",
    "# 2) Create nodes and edges\n",
    "# 3) Create and populate the graph\n",
    "\n",
    "def save_network(year_0, year_end, allANDpubyear, suffix, del_SWT = False):\n",
    "    '''\n",
    "    Creates a network in the defined time span\n",
    "    \n",
    "    Inputs:\n",
    "        year_0 = integer\n",
    "        year_end = integer\n",
    "        allANDpubyear = dataframe ['wos_id', 'uid', \n",
    "            'citedTitle', 'citedAuthor', 'year',\n",
    "            'wos_pubyear', 'title']\n",
    "        suffix = string for the name of the file\n",
    "        del_SWT = boolean [if true --> delete node STW]\n",
    "    Output:\n",
    "        # Saves a network file (.gexf)\n",
    "        G = graph\n",
    "    '''\n",
    "    # Data in the time range\n",
    "    mask = (allANDpubyear[\"wos_pubyear\"] > year_0 - 1) & (\n",
    "        allANDpubyear[\"wos_pubyear\"] < year_end + 1)\n",
    "    all_papers = allANDpubyear[mask]\n",
    "    \n",
    "    # Change the names of the nodes\n",
    "    names1 = all_papers[['wos_id', 'title', 'wos_pubyear']].reset_index(drop=True).rename(\n",
    "        columns={'wos_id': 'uid', 'wos_pubyear': 'year'})\n",
    "    names1['author'] = None\n",
    "    names2 = all_papers[['uid', 'citedTitle', 'year', 'citedAuthor']].reset_index(drop=True).rename(\n",
    "        columns={'citedTitle': 'title', 'citedAuthor': 'author'})\n",
    "    names = pd.concat([names1, names2])\n",
    "    names = names.drop_duplicates()\n",
    "    names['new_name'] = names['title'].fillna(names['uid'])\n",
    "    dic_new_names = names.set_index('uid')['new_name'].to_dict()\n",
    "    \n",
    "    # Create nodes and edges\n",
    "    nodes_g = all_papers['wos_id'].append(\n",
    "        all_papers['uid']).unique()\n",
    "    edges_g = all_papers.apply(create_tuple, axis=1)\n",
    "    \n",
    "    # Create and populate the graph\n",
    "    G = nx.Graph()\n",
    "    G.add_nodes_from(nodes_g)\n",
    "    G.add_edges_from(edges_g)\n",
    "    \n",
    "    G = nx.relabel_nodes(G, dic_new_names)\n",
    "    \n",
    "    \n",
    "    # Add author\n",
    "    names['author'] = names['author'].fillna('Unknow')\n",
    "    author_dic = dict(zip(names.new_name, names.author))\n",
    "    nx.set_node_attributes(G, author_dic, 'author')\n",
    "\n",
    "    # Add year\n",
    "    names['year'] = names['year'].fillna(1).astype(int)\n",
    "    year_dic = dict(zip(names.new_name, names.year))\n",
    "    year_dic = {k:int(v) for k,v in year_dic.items()}\n",
    "    nx.set_node_attributes(G, year_dic, 'year')\n",
    "    \n",
    "    if del_SWT:\n",
    "        # Delete node SWT\n",
    "        G.remove_node('THE STRENGTH OF WEAK TIES')\n",
    "    \n",
    "    # Create the clusters\n",
    "    G = create_communities(G)\n",
    "    \n",
    "    # Export the data\n",
    "    nx.write_gexf(G, \"../output/graph/{}_{}_{}.gexf\".format(year_0, year_end, suffix))\n",
    "    \n",
    "    return G\n",
    "        "
   ]
  },
  {
   "cell_type": "code",
   "execution_count": 64,
   "metadata": {},
   "outputs": [
    {
     "name": "stdout",
     "output_type": "stream",
     "text": [
      "About to create communities.\n",
      "Global modularity:  0.8001717649192565\n",
      "About to create communities.\n",
      "Global modularity:  0.8235985931198604\n",
      "About to create communities.\n",
      "Global modularity:  0.7102766981211376\n"
     ]
    }
   ],
   "source": [
    "graph_1973 = save_network(1973, 1980, allANDpubyear, \"att\")\n",
    "graph_1990 = save_network(1990, 1997, allANDpubyear, \"att\")\n",
    "graph_2007 = save_network(2007, 2014, allANDpubyear, \"att\")\n",
    "\n",
    "graphs = [graph_1973, graph_1990, graph_2007]"
   ]
  },
  {
   "cell_type": "code",
   "execution_count": 70,
   "metadata": {},
   "outputs": [
    {
     "name": "stdout",
     "output_type": "stream",
     "text": [
      "About to create communities.\n",
      "Global modularity:  0.8134495524381301\n",
      "About to create communities.\n",
      "Global modularity:  0.8369138868210109\n",
      "About to create communities.\n",
      "Global modularity:  0.7203070381552139\n"
     ]
    }
   ],
   "source": [
    "graph_1973 = save_network(1973, 1980, allANDpubyear, \"no_swt\", del_SWT = True)\n",
    "graph_1990 = save_network(1990, 1997, allANDpubyear, \"no_swt\", del_SWT = True)\n",
    "graph_2007 = save_network(2007, 2014, allANDpubyear, \"no_swt\", del_SWT = True)\n",
    "\n",
    "graphs = [graph_1973, graph_1990, graph_2007]"
   ]
  },
  {
   "cell_type": "code",
   "execution_count": 65,
   "metadata": {},
   "outputs": [
    {
     "name": "stdout",
     "output_type": "stream",
     "text": [
      "********. The num is  0 ********\n",
      "Nodes  3878\n",
      "Edges  4912\n",
      "Ratio  1.2666322846828262\n",
      "********. The num is  1 ********\n",
      "Nodes  17921\n",
      "Edges  23024\n",
      "Ratio  1.2847497349478265\n",
      "********. The num is  2 ********\n",
      "Nodes  171069\n",
      "Edges  290417\n",
      "Ratio  1.6976600085345679\n"
     ]
    }
   ],
   "source": [
    "for i, g in enumerate(graphs):\n",
    "    print(\"********. The num is \", i, \"********\" )\n",
    "    num_nodes = g.number_of_nodes()\n",
    "    num_edges = g.number_of_edges()\n",
    "    edges_per_node = num_edges / num_nodes\n",
    "    print(\"Nodes \", num_nodes)\n",
    "    print(\"Edges \", num_edges)\n",
    "    print(\"Ratio \", edges_per_node)"
   ]
  },
  {
   "cell_type": "code",
   "execution_count": 100,
   "metadata": {},
   "outputs": [
    {
     "name": "stderr",
     "output_type": "stream",
     "text": [
      "/usr/local/lib/python3.5/dist-packages/matplotlib/axes/_axes.py:545: UserWarning: No labelled objects found. Use label='...' kwarg on individual plots.\n",
      "  warnings.warn(\"No labelled objects found. \"\n"
     ]
    },
    {
     "data": {
      "image/png": "[encoded data removed]",
      "text/plain": [
       "<matplotlib.figure.Figure at 0x7ff4fb3e8c18>"
      ]
     },
     "metadata": {},
     "output_type": "display_data"
    }
   ],
   "source": [
    "title = \"Citations of SWT\"\n",
    "fig, ax = plt.subplots()\n",
    "plt.subplot(111, facecolor='white')\n",
    "\n",
    "# plt.xticks([\"1973-1980\", \"1990-1997\", \"2007-2014\"], rotation=90)\n",
    "# plt.xticks(range(3), ['A', 'Big', 'Cat'], color='red')\n",
    "plt.xticks([1973, 1990, 2007], [\"1973-1980\", \"1990-1997\", \"2007-2014\"], rotation=90)\n",
    "plt.plot([1973, 1990, 2007], [3878,17921,171069],color='blue',lw=1.5)\n",
    "plt.grid(b=True, which='major', color='lightgray', linewidth=.75)\n",
    "plt.grid(b=True, which='minor', color='lightgray', linewidth=.25)\n",
    "plt.title(title, fontsize=15)\n",
    "# plt.xlabel('Year')\n",
    "plt.ylabel('Citations')\n",
    "plt.legend(loc=0,fontsize=11)\n",
    "plt.tight_layout()\n",
    "plt.show()\n",
    "fig.savefig(\"../output/graph/evolution_cites.png\", bbox_inches='tight')\n",
    "\n",
    "\n",
    "plt.close()"
   ]
  },
  {
   "cell_type": "code",
   "execution_count": 101,
   "metadata": {},
   "outputs": [
    {
     "data": {
      "text/plain": [
       "4.621196493037648"
      ]
     },
     "execution_count": 101,
     "metadata": {},
     "output_type": "execute_result"
    }
   ],
   "source": [
    "17921/3878"
   ]
  },
  {
   "cell_type": "code",
   "execution_count": 102,
   "metadata": {},
   "outputs": [
    {
     "data": {
      "text/plain": [
       "9.545728474973496"
      ]
     },
     "execution_count": 102,
     "metadata": {},
     "output_type": "execute_result"
    }
   ],
   "source": [
    "171069/17921"
   ]
  },
  {
   "cell_type": "code",
   "execution_count": 81,
   "metadata": {},
   "outputs": [
    {
     "data": {
      "image/png": "[encoded data removed]",
      "text/plain": [
       "<matplotlib.figure.Figure at 0x7ff4fbf361d0>"
      ]
     },
     "metadata": {},
     "output_type": "display_data"
    }
   ],
   "source": [
    "import matplotlib.pyplot as plt\n",
    "plt.plot([1973,1990,2007], [3878,17921,171069], 'ro')\n",
    "\n",
    "plt.show()"
   ]
  },
  {
   "cell_type": "code",
   "execution_count": null,
   "metadata": {
    "collapsed": true
   },
   "outputs": [],
   "source": [
    "# 6) Graphs\n",
    "\n",
    "# nx.draw(G, node_size = 1)\n",
    "# nx.draw_random(G, node_size = 1)\n",
    "# nx.draw_circular(g)\n",
    "# nx.draw_spectral(g)\n",
    "# plt.savefig('../output/graph/regions_hopefully.png')\n",
    "plt.close()\n"
   ]
  },
  {
   "cell_type": "code",
   "execution_count": null,
   "metadata": {
    "collapsed": true
   },
   "outputs": [],
   "source": [
    "nx.draw_random(G, node_size = 20)\n",
    "plt.show()\n",
    "plt.close()"
   ]
  },
  {
   "cell_type": "markdown",
   "metadata": {},
   "source": [
    "# Sample to Create a Network Graph"
   ]
  },
  {
   "cell_type": "code",
   "execution_count": 327,
   "metadata": {
    "collapsed": true
   },
   "outputs": [],
   "source": [
    "sample = allANDpubyear[[\"wos_id\", \"uid\"]][allANDpubyear[\"wos_pubyear\"] < 1976]\n",
    "sample.rename(columns = {\"wos_id\": \"from\", \"uid\": \"to\"}, inplace = True)\n",
    "sample = sample.reset_index(drop = True)"
   ]
  },
  {
   "cell_type": "code",
   "execution_count": 328,
   "metadata": {
    "collapsed": true
   },
   "outputs": [],
   "source": [
    "nodes = list(set(sample[\"from\"])) + list(set(sample[\"to\"]))\n",
    "nodes_df = pd.DataFrame(nodes).rename(columns = {0: \"id\"})"
   ]
  },
  {
   "cell_type": "code",
   "execution_count": 329,
   "metadata": {
    "collapsed": true
   },
   "outputs": [],
   "source": [
    "# nodes_df[\"num\"] = np.arange(len(nodes_df))"
   ]
  },
  {
   "cell_type": "code",
   "execution_count": 330,
   "metadata": {
    "collapsed": true
   },
   "outputs": [],
   "source": [
    "def create_random_cat(size_df):\n",
    "    np.random.seed(1234567)\n",
    "    \n",
    "    translation = [\"Math\", \"Econ\", \"Physics\", \"Ecology\", \"Business\", \"Music\"]\n",
    "    \n",
    "    numbers = np.random.randint(len(translation), size= size_df)\n",
    "    \n",
    "    new_list = []\n",
    "    for num in numbers:\n",
    "        new_list.append(translation[num])\n",
    "        \n",
    "    return new_list    "
   ]
  },
  {
   "cell_type": "code",
   "execution_count": 331,
   "metadata": {
    "collapsed": true
   },
   "outputs": [],
   "source": [
    "disciplines = create_random_cat(len(nodes_df))"
   ]
  },
  {
   "cell_type": "code",
   "execution_count": 332,
   "metadata": {
    "collapsed": true
   },
   "outputs": [],
   "source": [
    "# nodes_df[\"type\"] = disciplines"
   ]
  },
  {
   "cell_type": "code",
   "execution_count": 333,
   "metadata": {
    "collapsed": true
   },
   "outputs": [],
   "source": [
    "sample[\"w\"] = 1"
   ]
  },
  {
   "cell_type": "code",
   "execution_count": 341,
   "metadata": {
    "collapsed": true
   },
   "outputs": [],
   "source": [
    "subjects = pd.read_csv(\"../output/data/subjects.txt\", sep=\"\\t\").rename(\n",
    "    columns = {\"wos_id\": \"id\"})"
   ]
  },
  {
   "cell_type": "code",
   "execution_count": 344,
   "metadata": {
    "collapsed": true
   },
   "outputs": [],
   "source": [
    "nodes_sub = pd.merge(nodes_df, subjects[[\"id\", \"subject\"]], \n",
    "                     left_on = \"id\", right_on =\"id\")"
   ]
  },
  {
   "cell_type": "code",
   "execution_count": 345,
   "metadata": {
    "collapsed": true
   },
   "outputs": [],
   "source": [
    "c = [\"aliceblue\", \"aquamarine3\", \"blue\", \"brown\", \n",
    "     \"chocolate1\", \"coral\", \"cyan\", \"darkgreen\", \n",
    "     \"darkred\", \"hotpink\", \"indianred3\", \"khaki1\", \n",
    "     \"lightseagreen\", \"lightslateblue\", \"olivedrab2\",\n",
    "     \"seagreen3\", \"yellow4\", \"tan2\", \"yellow3\"]"
   ]
  },
  {
   "cell_type": "code",
   "execution_count": 346,
   "metadata": {
    "collapsed": true
   },
   "outputs": [],
   "source": [
    "disciplines = list(set(nodes_sub[\"subject\"]))\n",
    "col_list = []\n",
    "for s in nodes_sub[\"subject\"]:\n",
    "    col_list.append(c[disciplines.index(s)])"
   ]
  },
  {
   "cell_type": "code",
   "execution_count": 347,
   "metadata": {
    "collapsed": true
   },
   "outputs": [],
   "source": [
    "nodes_sub[\"color\"] = col_list"
   ]
  },
  {
   "cell_type": "code",
   "execution_count": 284,
   "metadata": {
    "collapsed": true
   },
   "outputs": [],
   "source": [
    "sample.to_csv(\"/home/rodrigo/WoS/granovetter/output/data/spring2018/edges.csv\", index = None)"
   ]
  },
  {
   "cell_type": "code",
   "execution_count": 285,
   "metadata": {
    "collapsed": true
   },
   "outputs": [],
   "source": [
    "nodes_df.to_csv(\"/home/rodrigo/WoS/granovetter/output/data/spring2018/nodes.csv\", index = None)"
   ]
  },
  {
   "cell_type": "markdown",
   "metadata": {},
   "source": [
    "# Create data for Flexdashboard"
   ]
  },
  {
   "cell_type": "code",
   "execution_count": 387,
   "metadata": {},
   "outputs": [],
   "source": [
    "s_granovetter = pd.DataFrame(allANDpubyear.groupby(\"wos_pubyear\").count()[\"year\"]).rename(\n",
    "    columns = {\"year\": \"cites\"})\n",
    "s_granovetter[\"change\"] = s_granovetter.pct_change()\n",
    "s_granovetter[\"mean\"] = s_granovetter[\"change\"].mean()"
   ]
  },
  {
   "cell_type": "code",
   "execution_count": 389,
   "metadata": {},
   "outputs": [],
   "source": [
    "s_granovetter.index.name = \"year\""
   ]
  },
  {
   "cell_type": "code",
   "execution_count": 391,
   "metadata": {},
   "outputs": [],
   "source": [
    "s_granovetter.to_csv(\"/home/rodrigo/WoS/granovetter/output/data/spring2018/evolution.csv\")"
   ]
  },
  {
   "cell_type": "code",
   "execution_count": 397,
   "metadata": {},
   "outputs": [
    {
     "data": {
      "text/plain": [
       "28.649703138252757"
      ]
     },
     "execution_count": 397,
     "metadata": {},
     "output_type": "execute_result"
    }
   ],
   "source": [
    "s_granovetter.loc[2010][\"cites\"] / s_granovetter.loc[1980][\"cites\"]\n"
   ]
  },
  {
   "cell_type": "markdown",
   "metadata": {},
   "source": [
    "## Top authors"
   ]
  },
  {
   "cell_type": "markdown",
   "metadata": {},
   "source": [
    "### General functions (top authors)"
   ]
  },
  {
   "cell_type": "code",
   "execution_count": 559,
   "metadata": {},
   "outputs": [],
   "source": [
    "def get_top_in_cat(year_0, year_end, important_var, allANDpubyear):\n",
    "    '''\n",
    "    Creates a dataframe with the most important 'important_var'\n",
    "    '''\n",
    "    # Data in the time range\n",
    "    mask = (allANDpubyear[\"wos_pubyear\"] > year_0 - 1) & (\n",
    "        allANDpubyear[\"wos_pubyear\"] < year_end + 1)\n",
    "    all_papers = allANDpubyear[mask]\n",
    "\n",
    "    important_df = pd.DataFrame(all_papers[[important_var, 'year']]\n",
    "                             ).reset_index(drop=True).rename(\n",
    "                                columns = {'year': 'count'})\n",
    "\n",
    "    important_gb = important_df.groupby(important_var).count().sort_values(\n",
    "        'count', ascending = False)\n",
    "\n",
    "    if important_var == 'citedAuthor':\n",
    "        important_gb.loc['Granovetter, M.'] += important_gb.loc['GRANOVET.MS']\n",
    "        important_gb.drop(['GRANOVET.MS'], inplace = True)\n",
    "\n",
    "        important_gb.loc['BURT, RS'] += important_gb.loc['BURT RS']\n",
    "        try: \n",
    "            important_gb.loc['BURT, RS'] += important_gb.loc['Burt, RS']  \n",
    "            important_gb.drop(['Burt, RS'], inplace = True)\n",
    "        except:\n",
    "            None\n",
    "        important_gb.drop(['BURT RS'], inplace = True)\n",
    "        \n",
    "        important_gb.loc['LAUMANN, EO'] += important_gb.loc['LAUMANN EO']\n",
    "        important_gb.drop(['LAUMANN EO'], inplace = True)\n",
    "        \n",
    "        try: \n",
    "            important_gb.loc['WELLMAN, B'] += important_gb.loc['WELLMAN B']\n",
    "            important_gb.drop(['WELLMAN B'], inplace = True)\n",
    "        except:\n",
    "            None\n",
    "        try:\n",
    "            important_gb.loc['WELLMAN, B'] += important_gb.loc['Wellman, B.']\n",
    "            important_gb.drop(['Wellman, B.'], inplace = True)\n",
    "        except:\n",
    "            None\n",
    "        \n",
    "        # Drop ALL Granovetters (I build the sample in that way)\n",
    "        important_gb.drop(['Granovetter, M.'], inplace = True)\n",
    "        important_gb.drop(['Granovetter, M'], inplace = True)\n",
    "        important_gb.drop(['GRANOVETTER, M'], inplace = True) \n",
    "        important_gb.drop(['GRANOVETTER M'], inplace = True) \n",
    "        \n",
    "    important_gb.sort_values('count', ascending = False, inplace = True)\n",
    "    important_gb.index = important_gb.index.str.upper()\n",
    "\n",
    "    return important_gb[:10]"
   ]
  },
  {
   "cell_type": "markdown",
   "metadata": {},
   "source": [
    "### Get and save (top authors)"
   ]
  },
  {
   "cell_type": "code",
   "execution_count": 567,
   "metadata": {},
   "outputs": [],
   "source": [
    "# Obtain most cited authors per period\n",
    "year_0 = 1973\n",
    "year_end = 1980\n",
    "important_var = 'citedAuthor'\n",
    "authors_1973 = get_top_in_cat(year_0, year_end, important_var, allANDpubyear)\n",
    "authors_1973.to_csv(\"/home/rodrigo/WoS/granovetter/output/data/spring2018/authors_1973.csv\")"
   ]
  },
  {
   "cell_type": "code",
   "execution_count": 568,
   "metadata": {},
   "outputs": [],
   "source": [
    "# Obtain most cited authors per period\n",
    "year_0 = 1990\n",
    "year_end = 1997\n",
    "important_var = 'citedAuthor'\n",
    "authors_1990 = get_top_in_cat(year_0, year_end, important_var, allANDpubyear)\n",
    "authors_1990.to_csv(\"/home/rodrigo/WoS/granovetter/output/data/spring2018/authors_1990.csv\")"
   ]
  },
  {
   "cell_type": "code",
   "execution_count": 569,
   "metadata": {
    "collapsed": true
   },
   "outputs": [],
   "source": [
    "# Obtain most cited authors per period\n",
    "year_0 = 2007\n",
    "year_end = 2014\n",
    "important_var = 'citedAuthor'\n",
    "authors_2007 = get_top_in_cat(year_0, year_end, important_var, allANDpubyear)\n",
    "authors_2007.to_csv(\"/home/rodrigo/WoS/granovetter/output/data/spring2018/authors_2007.csv\")"
   ]
  },
  {
   "cell_type": "markdown",
   "metadata": {},
   "source": [
    "## Text"
   ]
  },
  {
   "cell_type": "markdown",
   "metadata": {},
   "source": [
    "### Functions Text"
   ]
  },
  {
   "cell_type": "code",
   "execution_count": 604,
   "metadata": {
    "collapsed": true
   },
   "outputs": [],
   "source": [
    "def save_line(name_file, string, append = True):\n",
    "    '''\n",
    "    Saves a line in file.\n",
    "\n",
    "    Inputs:\n",
    "        name_file = string (location of file)\n",
    "        string = string (to save in the file)\n",
    "        append = boolean (True if append to file)\n",
    "    '''\n",
    "    if append:\n",
    "        f = open(name_file, 'a')\n",
    "    else:\n",
    "        f = open(name_file, 'w')\n",
    "    f.write(string + \"\\n\")\n",
    "    f.close()"
   ]
  },
  {
   "cell_type": "code",
   "execution_count": 605,
   "metadata": {
    "collapsed": true
   },
   "outputs": [],
   "source": [
    "def string_titles(year_0, year_end, allANDpubyear):\n",
    "    '''\n",
    "    Generates a string which is the \"sum\" of all titles.\n",
    "    '''\n",
    "    # Data in the time range\n",
    "    mask = (allANDpubyear[\"wos_pubyear\"] > year_0 - 1) & (\n",
    "        allANDpubyear[\"wos_pubyear\"] < year_end + 1)\n",
    "    all_papers = allANDpubyear[mask]\n",
    "\n",
    "    all_titles = set(all_papers[['title']]['title'])\n",
    "\n",
    "    one_sentence = \" \".join(all_titles).lower()\n",
    "\n",
    "    return one_sentence"
   ]
  },
  {
   "cell_type": "code",
   "execution_count": 606,
   "metadata": {
    "collapsed": true
   },
   "outputs": [],
   "source": [
    "year_0 = 1973\n",
    "year_end = 1980\n",
    "titles_1973 = string_titles(year_0, year_end, allANDpubyear)\n",
    "name_file = \"/home/rodrigo/WoS/granovetter/output/data/spring2018/titles_1973.txt\"\n",
    "save_line(name_file, titles_1973, append = False)"
   ]
  },
  {
   "cell_type": "code",
   "execution_count": 607,
   "metadata": {},
   "outputs": [],
   "source": [
    "year_0 = 1990\n",
    "year_end = 1997\n",
    "titles_1990 = string_titles(year_0, year_end, allANDpubyear)\n",
    "name_file = \"/home/rodrigo/WoS/granovetter/output/data/spring2018/titles_1990.txt\"\n",
    "save_line(name_file, titles_1990, append = False)"
   ]
  },
  {
   "cell_type": "code",
   "execution_count": 608,
   "metadata": {},
   "outputs": [],
   "source": [
    "year_0 = 2007\n",
    "year_end = 2014\n",
    "titles_2007 = string_titles(year_0, year_end, allANDpubyear)\n",
    "name_file = \"/home/rodrigo/WoS/granovetter/output/data/spring2018/titles_2007.txt\"\n",
    "save_line(name_file, titles_2007, append = False)"
   ]
  },
  {
   "cell_type": "markdown",
   "metadata": {},
   "source": [
    "# Relative growth"
   ]
  },
  {
   "cell_type": "code",
   "execution_count": 640,
   "metadata": {},
   "outputs": [],
   "source": [
    "general_trend = pd.read_csv(\"/home/rodrigo/WoS/granovetter/output/data/spring2018/wc_stats.txt\", \n",
    "                            header = None, sep = \"\\s+\", names = [\"cites_general\", \"year_file_general\"])"
   ]
  },
  {
   "cell_type": "code",
   "execution_count": 641,
   "metadata": {},
   "outputs": [],
   "source": [
    "general_trend[\"year\"] = np.arange(1985, 2016, 1)\n",
    "general_trend.drop([\"year_file_general\"], axis = 1, inplace = True)"
   ]
  },
  {
   "cell_type": "code",
   "execution_count": 642,
   "metadata": {},
   "outputs": [],
   "source": [
    "general_trend.index = general_trend[\"year\"]\n",
    "general_trend.drop([\"year\"], axis = 1, inplace = True)"
   ]
  },
  {
   "cell_type": "code",
   "execution_count": 660,
   "metadata": {},
   "outputs": [],
   "source": [
    "g_and_g = general_trend.join(s_granovetter)[['cites_general', 'cites']]"
   ]
  },
  {
   "cell_type": "code",
   "execution_count": 661,
   "metadata": {},
   "outputs": [],
   "source": [
    "g_and_g['trend_g'] = g_and_g['cites_general'] / g_and_g['cites_general'][1985]\n",
    "g_and_g['trend_swt'] = g_and_g['cites'] / g_and_g['cites'][1985]\n",
    "g_and_g.drop(['cites_general', 'cites'], axis = 1, inplace = True)"
   ]
  },
  {
   "cell_type": "code",
   "execution_count": 663,
   "metadata": {},
   "outputs": [],
   "source": [
    "g_and_g.to_csv(\"/home/rodrigo/WoS/granovetter/output/data/spring2018/trends.csv\")"
   ]
  }
 ],
 "metadata": {
  "kernelspec": {
   "display_name": "Python 3",
   "language": "python",
   "name": "python3"
  },
  "language_info": {
   "codemirror_mode": {
    "name": "ipython",
    "version": 3
   },
   "file_extension": ".py",
   "mimetype": "text/x-python",
   "name": "python",
   "nbconvert_exporter": "python",
   "pygments_lexer": "ipython3",
   "version": "3.5.2"
  }
 },
 "nbformat": 4,
 "nbformat_minor": 2
}
